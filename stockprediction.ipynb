{
  "nbformat": 4,
  "nbformat_minor": 0,
  "metadata": {
    "colab": {
      "name": "Untitled0.ipynb",
      "provenance": [],
      "authorship_tag": "ABX9TyMzdz1XBUVqtP4/afb/t79O",
      "include_colab_link": true
    },
    "kernelspec": {
      "name": "python3",
      "display_name": "Python 3"
    }
  },
  "cells": [
    {
      "cell_type": "markdown",
      "metadata": {
        "id": "view-in-github",
        "colab_type": "text"
      },
      "source": [
        "<a href=\"https://colab.research.google.com/github/harshitismm/datascience/blob/master/stockprediction.ipynb\" target=\"_parent\"><img src=\"https://colab.research.google.com/assets/colab-badge.svg\" alt=\"Open In Colab\"/></a>"
      ]
    },
    {
      "cell_type": "code",
      "metadata": {
        "id": "s09GB7C4vEZ4",
        "colab_type": "code",
        "colab": {}
      },
      "source": [
        "#Description: This program uses an artificial recurrent neural network called long short Term memory(LSTM)\n",
        "# to predict the closing stock price of a corporation(Apple Inc.) using the past 60 da stock price."
      ],
      "execution_count": 0,
      "outputs": []
    },
    {
      "cell_type": "code",
      "metadata": {
        "id": "JJdjmUDVv78f",
        "colab_type": "code",
        "colab": {}
      },
      "source": [
        "#Import the libraries\n",
        "import math\n",
        "import pandas_datareader as web\n",
        "import numpy as np\n",
        "import pandas as pd\n",
        "from sklearn.preprocessing import MinMaxScaler\n",
        "from keras.models import Sequential\n",
        "from keras.layers import Dense, LSTM\n",
        "import matplotlib.pyplot as plt\n",
        "plt.style.use('fivethirtyeight')\n"
      ],
      "execution_count": 0,
      "outputs": []
    },
    {
      "cell_type": "code",
      "metadata": {
        "id": "9PxsTyrkw1Am",
        "colab_type": "code",
        "colab": {
          "base_uri": "https://localhost:8080/",
          "height": 450
        },
        "outputId": "2cf78742-9751-46a2-e472-55112d7aa340"
      },
      "source": [
        "#get the stock quote\n",
        "df = web.DataReader('AAPL',data_source='yahoo',start='2012-01-01', end='2020-06-6')\n",
        "#show the data\n",
        "df"
      ],
      "execution_count": 7,
      "outputs": [
        {
          "output_type": "execute_result",
          "data": {
            "text/html": [
              "<div>\n",
              "<style scoped>\n",
              "    .dataframe tbody tr th:only-of-type {\n",
              "        vertical-align: middle;\n",
              "    }\n",
              "\n",
              "    .dataframe tbody tr th {\n",
              "        vertical-align: top;\n",
              "    }\n",
              "\n",
              "    .dataframe thead th {\n",
              "        text-align: right;\n",
              "    }\n",
              "</style>\n",
              "<table border=\"1\" class=\"dataframe\">\n",
              "  <thead>\n",
              "    <tr style=\"text-align: right;\">\n",
              "      <th></th>\n",
              "      <th>High</th>\n",
              "      <th>Low</th>\n",
              "      <th>Open</th>\n",
              "      <th>Close</th>\n",
              "      <th>Volume</th>\n",
              "      <th>Adj Close</th>\n",
              "    </tr>\n",
              "    <tr>\n",
              "      <th>Date</th>\n",
              "      <th></th>\n",
              "      <th></th>\n",
              "      <th></th>\n",
              "      <th></th>\n",
              "      <th></th>\n",
              "      <th></th>\n",
              "    </tr>\n",
              "  </thead>\n",
              "  <tbody>\n",
              "    <tr>\n",
              "      <th>2012-01-03</th>\n",
              "      <td>58.928570</td>\n",
              "      <td>58.428570</td>\n",
              "      <td>58.485714</td>\n",
              "      <td>58.747143</td>\n",
              "      <td>75555200.0</td>\n",
              "      <td>50.857235</td>\n",
              "    </tr>\n",
              "    <tr>\n",
              "      <th>2012-01-04</th>\n",
              "      <td>59.240002</td>\n",
              "      <td>58.468571</td>\n",
              "      <td>58.571430</td>\n",
              "      <td>59.062859</td>\n",
              "      <td>65005500.0</td>\n",
              "      <td>51.130558</td>\n",
              "    </tr>\n",
              "    <tr>\n",
              "      <th>2012-01-05</th>\n",
              "      <td>59.792858</td>\n",
              "      <td>58.952858</td>\n",
              "      <td>59.278572</td>\n",
              "      <td>59.718571</td>\n",
              "      <td>67817400.0</td>\n",
              "      <td>51.698215</td>\n",
              "    </tr>\n",
              "    <tr>\n",
              "      <th>2012-01-06</th>\n",
              "      <td>60.392857</td>\n",
              "      <td>59.888573</td>\n",
              "      <td>59.967144</td>\n",
              "      <td>60.342857</td>\n",
              "      <td>79573200.0</td>\n",
              "      <td>52.238651</td>\n",
              "    </tr>\n",
              "    <tr>\n",
              "      <th>2012-01-09</th>\n",
              "      <td>61.107143</td>\n",
              "      <td>60.192856</td>\n",
              "      <td>60.785713</td>\n",
              "      <td>60.247143</td>\n",
              "      <td>98506100.0</td>\n",
              "      <td>52.155792</td>\n",
              "    </tr>\n",
              "    <tr>\n",
              "      <th>...</th>\n",
              "      <td>...</td>\n",
              "      <td>...</td>\n",
              "      <td>...</td>\n",
              "      <td>...</td>\n",
              "      <td>...</td>\n",
              "      <td>...</td>\n",
              "    </tr>\n",
              "    <tr>\n",
              "      <th>2020-06-01</th>\n",
              "      <td>322.350006</td>\n",
              "      <td>317.209991</td>\n",
              "      <td>317.750000</td>\n",
              "      <td>321.850006</td>\n",
              "      <td>20197800.0</td>\n",
              "      <td>321.850006</td>\n",
              "    </tr>\n",
              "    <tr>\n",
              "      <th>2020-06-02</th>\n",
              "      <td>323.440002</td>\n",
              "      <td>318.929993</td>\n",
              "      <td>320.750000</td>\n",
              "      <td>323.339996</td>\n",
              "      <td>21910700.0</td>\n",
              "      <td>323.339996</td>\n",
              "    </tr>\n",
              "    <tr>\n",
              "      <th>2020-06-03</th>\n",
              "      <td>326.200012</td>\n",
              "      <td>322.299988</td>\n",
              "      <td>324.660004</td>\n",
              "      <td>325.119995</td>\n",
              "      <td>26122800.0</td>\n",
              "      <td>325.119995</td>\n",
              "    </tr>\n",
              "    <tr>\n",
              "      <th>2020-06-04</th>\n",
              "      <td>325.619995</td>\n",
              "      <td>320.779999</td>\n",
              "      <td>324.390015</td>\n",
              "      <td>322.320007</td>\n",
              "      <td>21890100.0</td>\n",
              "      <td>322.320007</td>\n",
              "    </tr>\n",
              "    <tr>\n",
              "      <th>2020-06-05</th>\n",
              "      <td>331.750000</td>\n",
              "      <td>323.230011</td>\n",
              "      <td>323.350006</td>\n",
              "      <td>331.500000</td>\n",
              "      <td>34289200.0</td>\n",
              "      <td>331.500000</td>\n",
              "    </tr>\n",
              "  </tbody>\n",
              "</table>\n",
              "<p>2120 rows × 6 columns</p>\n",
              "</div>"
            ],
            "text/plain": [
              "                  High         Low  ...      Volume   Adj Close\n",
              "Date                                ...                        \n",
              "2012-01-03   58.928570   58.428570  ...  75555200.0   50.857235\n",
              "2012-01-04   59.240002   58.468571  ...  65005500.0   51.130558\n",
              "2012-01-05   59.792858   58.952858  ...  67817400.0   51.698215\n",
              "2012-01-06   60.392857   59.888573  ...  79573200.0   52.238651\n",
              "2012-01-09   61.107143   60.192856  ...  98506100.0   52.155792\n",
              "...                ...         ...  ...         ...         ...\n",
              "2020-06-01  322.350006  317.209991  ...  20197800.0  321.850006\n",
              "2020-06-02  323.440002  318.929993  ...  21910700.0  323.339996\n",
              "2020-06-03  326.200012  322.299988  ...  26122800.0  325.119995\n",
              "2020-06-04  325.619995  320.779999  ...  21890100.0  322.320007\n",
              "2020-06-05  331.750000  323.230011  ...  34289200.0  331.500000\n",
              "\n",
              "[2120 rows x 6 columns]"
            ]
          },
          "metadata": {
            "tags": []
          },
          "execution_count": 7
        }
      ]
    },
    {
      "cell_type": "code",
      "metadata": {
        "id": "z1wGiRJXyQ0T",
        "colab_type": "code",
        "colab": {
          "base_uri": "https://localhost:8080/",
          "height": 34
        },
        "outputId": "25660c8c-18f2-4198-acc5-2473a5fce9aa"
      },
      "source": [
        "#get the no. of rows and column in the data set\n",
        "df.shape"
      ],
      "execution_count": 8,
      "outputs": [
        {
          "output_type": "execute_result",
          "data": {
            "text/plain": [
              "(2120, 6)"
            ]
          },
          "metadata": {
            "tags": []
          },
          "execution_count": 8
        }
      ]
    },
    {
      "cell_type": "code",
      "metadata": {
        "id": "lhe3qOZkyZPj",
        "colab_type": "code",
        "colab": {
          "base_uri": "https://localhost:8080/",
          "height": 558
        },
        "outputId": "ff4109d7-bb29-4c8d-95ef-868a8267aa41"
      },
      "source": [
        "#visualize the closing price history\n",
        "plt.figure(figsize=(16,8))\n",
        "plt.title('Close Price History')\n",
        "plt.plot(df['Close'])\n",
        "plt.xlabel('Date',fontsize=18)\n",
        "plt.ylabel('Close Price USD ($)', fontsize = 18)\n",
        "plt.show()"
      ],
      "execution_count": 9,
      "outputs": [
        {
          "output_type": "display_data",
          "data": {
            "image/png": "[encoded data removed]",
            "text/plain": [
              "<Figure size 1152x576 with 1 Axes>"
            ]
          },
          "metadata": {
            "tags": []
          }
        }
      ]
    },
    {
      "cell_type": "code",
      "metadata": {
        "id": "LdNMNwZ-zi5X",
        "colab_type": "code",
        "colab": {
          "base_uri": "https://localhost:8080/",
          "height": 34
        },
        "outputId": "e4f4fcba-5689-446a-ebc2-ed6b1a45dae0"
      },
      "source": [
        "#create a new dataframe with only the close column\n",
        "data = df.filter(['Close'])\n",
        "#Convert the dataframe to a numpy array\n",
        "dataset = data.values\n",
        "#get the number of rows to train the model on\n",
        "training_data_len = math.ceil(len(dataset) * .8)\n",
        "training_data_len"
      ],
      "execution_count": 12,
      "outputs": [
        {
          "output_type": "execute_result",
          "data": {
            "text/plain": [
              "1696"
            ]
          },
          "metadata": {
            "tags": []
          },
          "execution_count": 11
        },
        {
          "output_type": "execute_result",
          "data": {
            "text/plain": [
              "1696"
            ]
          },
          "metadata": {
            "tags": []
          },
          "execution_count": 12
        }
      ]
    },
    {
      "cell_type": "code",
      "metadata": {
        "id": "UjI0BPck0nM7",
        "colab_type": "code",
        "colab": {
          "base_uri": "https://localhost:8080/",
          "height": 136
        },
        "outputId": "07a287a9-022b-48ab-e2ab-9219ae475025"
      },
      "source": [
        "#scale the data \n",
        "scaler = MinMaxScaler(feature_range=(0,1))\n",
        "scaled_data = scaler.fit_transform(dataset)\n",
        "\n",
        "scaled_data"
      ],
      "execution_count": 13,
      "outputs": [
        {
          "output_type": "execute_result",
          "data": {
            "text/plain": [
              "array([[0.01072555],\n",
              "       [0.01187065],\n",
              "       [0.01424892],\n",
              "       ...,\n",
              "       [0.97685973],\n",
              "       [0.96670417],\n",
              "       [1.        ]])"
            ]
          },
          "metadata": {
            "tags": []
          },
          "execution_count": 13
        }
      ]
    },
    {
      "cell_type": "code",
      "metadata": {
        "id": "jyjuEIWW1GIQ",
        "colab_type": "code",
        "colab": {
          "base_uri": "https://localhost:8080/",
          "height": 680
        },
        "outputId": "6265d095-9048-487d-9962-8e7d395df64c"
      },
      "source": [
        "#create the training dataset\n",
        "#create the scaled training dataset\n",
        "train_data=scaled_data[0:training_data_len,:]\n",
        "x_train = []\n",
        "y_train = []\n",
        "\n",
        "for i in range(60,len(train_data)):\n",
        "  x_train.append(train_data[i-60:i,0])\n",
        "  y_train.append(train_data[i,0])\n",
        "  if i<=61:\n",
        "    print(x_train)\n",
        "    print(y_train)\n",
        "    print()"
      ],
      "execution_count": 15,
      "outputs": [
        {
          "output_type": "stream",
          "text": [
            "[array([0.01072555, 0.01187065, 0.01424892, 0.01651321, 0.01616605,\n",
            "       0.01694844, 0.01659092, 0.01598988, 0.01517122, 0.01770494,\n",
            "       0.01998995, 0.01928527, 0.01542511, 0.0191091 , 0.0154821 ,\n",
            "       0.02908335, 0.02803152, 0.0294046 , 0.03237355, 0.0341715 ,\n",
            "       0.03402124, 0.03346684, 0.03582957, 0.03805239, 0.04057058,\n",
            "       0.044638  , 0.05318217, 0.05331171, 0.05806827, 0.06162271,\n",
            "       0.0555138 , 0.05786618, 0.05781955, 0.06441552, 0.06347766,\n",
            "       0.06521343, 0.06833266, 0.07006845, 0.07506853, 0.07871108,\n",
            "       0.07976288, 0.08013078, 0.07390271, 0.07240008, 0.07262289,\n",
            "       0.07847789, 0.08012561, 0.0836645 , 0.09200661, 0.10313632,\n",
            "       0.10105338, 0.10105855, 0.10910532, 0.11162349, 0.10983071,\n",
            "       0.1081934 , 0.1064887 , 0.11215199, 0.11603808, 0.11766504])]\n",
            "[0.1136442469575053]\n",
            "\n",
            "[array([0.01072555, 0.01187065, 0.01424892, 0.01651321, 0.01616605,\n",
            "       0.01694844, 0.01659092, 0.01598988, 0.01517122, 0.01770494,\n",
            "       0.01998995, 0.01928527, 0.01542511, 0.0191091 , 0.0154821 ,\n",
            "       0.02908335, 0.02803152, 0.0294046 , 0.03237355, 0.0341715 ,\n",
            "       0.03402124, 0.03346684, 0.03582957, 0.03805239, 0.04057058,\n",
            "       0.044638  , 0.05318217, 0.05331171, 0.05806827, 0.06162271,\n",
            "       0.0555138 , 0.05786618, 0.05781955, 0.06441552, 0.06347766,\n",
            "       0.06521343, 0.06833266, 0.07006845, 0.07506853, 0.07871108,\n",
            "       0.07976288, 0.08013078, 0.07390271, 0.07240008, 0.07262289,\n",
            "       0.07847789, 0.08012561, 0.0836645 , 0.09200661, 0.10313632,\n",
            "       0.10105338, 0.10105855, 0.10910532, 0.11162349, 0.10983071,\n",
            "       0.1081934 , 0.1064887 , 0.11215199, 0.11603808, 0.11766504]), array([0.01187065, 0.01424892, 0.01651321, 0.01616605, 0.01694844,\n",
            "       0.01659092, 0.01598988, 0.01517122, 0.01770494, 0.01998995,\n",
            "       0.01928527, 0.01542511, 0.0191091 , 0.0154821 , 0.02908335,\n",
            "       0.02803152, 0.0294046 , 0.03237355, 0.0341715 , 0.03402124,\n",
            "       0.03346684, 0.03582957, 0.03805239, 0.04057058, 0.044638  ,\n",
            "       0.05318217, 0.05331171, 0.05806827, 0.06162271, 0.0555138 ,\n",
            "       0.05786618, 0.05781955, 0.06441552, 0.06347766, 0.06521343,\n",
            "       0.06833266, 0.07006845, 0.07506853, 0.07871108, 0.07976288,\n",
            "       0.08013078, 0.07390271, 0.07240008, 0.07262289, 0.07847789,\n",
            "       0.08012561, 0.0836645 , 0.09200661, 0.10313632, 0.10105338,\n",
            "       0.10105855, 0.10910532, 0.11162349, 0.10983071, 0.1081934 ,\n",
            "       0.1064887 , 0.11215199, 0.11603808, 0.11766504, 0.11364425])]\n",
            "[0.1136442469575053, 0.10830220416200059]\n",
            "\n"
          ],
          "name": "stdout"
        }
      ]
    },
    {
      "cell_type": "code",
      "metadata": {
        "id": "4wz3cO0c2aqO",
        "colab_type": "code",
        "colab": {}
      },
      "source": [
        "#convet the x_train and y_train to numpy arrays\n",
        "x_train,y_train = np.array(x_train), np.array(y_train)"
      ],
      "execution_count": 0,
      "outputs": []
    },
    {
      "cell_type": "code",
      "metadata": {
        "id": "k8kuOEdI23A0",
        "colab_type": "code",
        "colab": {
          "base_uri": "https://localhost:8080/",
          "height": 34
        },
        "outputId": "b77df488-2011-44ca-baad-775b5eb5b4f5"
      },
      "source": [
        "#reshape the data\n",
        "x_train = np.reshape(x_train , (x_train.shape[0], x_train.shape[1] ,1))\n",
        "x_train.shape"
      ],
      "execution_count": 20,
      "outputs": [
        {
          "output_type": "execute_result",
          "data": {
            "text/plain": [
              "(1636, 60, 1)"
            ]
          },
          "metadata": {
            "tags": []
          },
          "execution_count": 20
        }
      ]
    },
    {
      "cell_type": "code",
      "metadata": {
        "id": "PLlGqX2-3gJU",
        "colab_type": "code",
        "colab": {}
      },
      "source": [
        "#build the LSTM model\n",
        "model = Sequential()\n",
        "model.add(LSTM(50, return_sequences=True, input_shape= (x_train.shape[1], 1)))\n",
        "model.add(LSTM(50 , return_sequences=False))\n",
        "model.add(Dense(25))\n",
        "model.add(Dense(1))"
      ],
      "execution_count": 0,
      "outputs": []
    },
    {
      "cell_type": "code",
      "metadata": {
        "id": "FGDf9cGw4V6j",
        "colab_type": "code",
        "colab": {}
      },
      "source": [
        "model.compile(optimizer='adam', loss='mean_squared_error')\n"
      ],
      "execution_count": 0,
      "outputs": []
    },
    {
      "cell_type": "code",
      "metadata": {
        "id": "xT585Wl64ggi",
        "colab_type": "code",
        "colab": {
          "base_uri": "https://localhost:8080/",
          "height": 68
        },
        "outputId": "45e7423f-abdf-4d0b-ccec-1b466b36704e"
      },
      "source": [
        "model.fit(x_train, y_train ,batch_size=1, epochs=1)"
      ],
      "execution_count": 25,
      "outputs": [
        {
          "output_type": "stream",
          "text": [
            "Epoch 1/1\n",
            "1636/1636 [==============================] - 69s 42ms/step - loss: 2.7619e-04\n"
          ],
          "name": "stdout"
        },
        {
          "output_type": "execute_result",
          "data": {
            "text/plain": [
              "<keras.callbacks.callbacks.History at 0x7f0a18859828>"
            ]
          },
          "metadata": {
            "tags": []
          },
          "execution_count": 25
        }
      ]
    },
    {
      "cell_type": "code",
      "metadata": {
        "id": "jh256bMS6JCv",
        "colab_type": "code",
        "colab": {}
      },
      "source": [
        "#Create a new array containing scaled values from index 1636 to 2003\n",
        "test_data = scaled_data[training_data_len - 60: , :]\n",
        "x_test = []\n",
        "y_test = dataset[training_data_len: , :]\n",
        "for i in range(60 , len(test_data)):\n",
        "  x_test.append(test_data[i-60:i, 0])\n"
      ],
      "execution_count": 0,
      "outputs": []
    },
    {
      "cell_type": "code",
      "metadata": {
        "id": "3ksjRw2U65wF",
        "colab_type": "code",
        "colab": {}
      },
      "source": [
        "x_test = np.array(x_test)"
      ],
      "execution_count": 0,
      "outputs": []
    },
    {
      "cell_type": "code",
      "metadata": {
        "id": "LpPRNz917IEz",
        "colab_type": "code",
        "colab": {}
      },
      "source": [
        "x_test = np.reshape(x_test , (x_test.shape[0], x_test.shape[1], 1))"
      ],
      "execution_count": 0,
      "outputs": []
    },
    {
      "cell_type": "code",
      "metadata": {
        "id": "c5KptmSo76D1",
        "colab_type": "code",
        "colab": {}
      },
      "source": [
        "predictions = model.predict(x_test)\n",
        "predictions = scaler.inverse_transform(predictions)"
      ],
      "execution_count": 0,
      "outputs": []
    },
    {
      "cell_type": "code",
      "metadata": {
        "id": "9Yo7b_9A8OlL",
        "colab_type": "code",
        "colab": {
          "base_uri": "https://localhost:8080/",
          "height": 34
        },
        "outputId": "0e139079-3a78-4adb-8b83-7f5f14d0c956"
      },
      "source": [
        "rmse = np.sqrt(np.mean(predictions - y_test)**2)\n",
        "rmse"
      ],
      "execution_count": 33,
      "outputs": [
        {
          "output_type": "execute_result",
          "data": {
            "text/plain": [
              "7.903483840654481"
            ]
          },
          "metadata": {
            "tags": []
          },
          "execution_count": 33
        }
      ]
    },
    {
      "cell_type": "code",
      "metadata": {
        "id": "QkXZ0tF68n1R",
        "colab_type": "code",
        "colab": {
          "base_uri": "https://localhost:8080/",
          "height": 660
        },
        "outputId": "1edcc3e6-abb3-4cba-9cdd-7b512752ecf7"
      },
      "source": [
        "train = data[:training_data_len]\n",
        "valid = data[training_data_len:]\n",
        "valid['Predictions'] = predictions\n",
        "plt.figure(figsize=(16,8))\n",
        "plt.title('Model')\n",
        "plt.xlabel('Date',fontsize=18)\n",
        "plt.ylabel('Close Price USD($)', fontsize=18)\n",
        "plt.plot(train['Close'])\n",
        "plt.plot(valid[['Close','Predictions']])\n",
        "plt.legend(['Train','Val','Predictions'],loc='lower right')\n",
        "plt.show()"
      ],
      "execution_count": 34,
      "outputs": [
        {
          "output_type": "stream",
          "text": [
            "/usr/local/lib/python3.6/dist-packages/ipykernel_launcher.py:3: SettingWithCopyWarning: \n",
            "A value is trying to be set on a copy of a slice from a DataFrame.\n",
            "Try using .loc[row_indexer,col_indexer] = value instead\n",
            "\n",
            "See the caveats in the documentation: https://pandas.pydata.org/pandas-docs/stable/user_guide/indexing.html#returning-a-view-versus-a-copy\n",
            "  This is separate from the ipykernel package so we can avoid doing imports until\n"
          ],
          "name": "stderr"
        },
        {
          "output_type": "display_data",
          "data": {
            "image/png": "[encoded data removed]",
            "text/plain": [
              "<Figure size 1152x576 with 1 Axes>"
            ]
          },
          "metadata": {
            "tags": []
          }
        }
      ]
    },
    {
      "cell_type": "code",
      "metadata": {
        "id": "X4jlOYZt-AMN",
        "colab_type": "code",
        "colab": {
          "base_uri": "https://localhost:8080/",
          "height": 450
        },
        "outputId": "67912084-6d90-4d6c-8c9b-dbaff5affeb0"
      },
      "source": [
        "valid"
      ],
      "execution_count": 35,
      "outputs": [
        {
          "output_type": "execute_result",
          "data": {
            "text/html": [
              "<div>\n",
              "<style scoped>\n",
              "    .dataframe tbody tr th:only-of-type {\n",
              "        vertical-align: middle;\n",
              "    }\n",
              "\n",
              "    .dataframe tbody tr th {\n",
              "        vertical-align: top;\n",
              "    }\n",
              "\n",
              "    .dataframe thead th {\n",
              "        text-align: right;\n",
              "    }\n",
              "</style>\n",
              "<table border=\"1\" class=\"dataframe\">\n",
              "  <thead>\n",
              "    <tr style=\"text-align: right;\">\n",
              "      <th></th>\n",
              "      <th>Close</th>\n",
              "      <th>Predictions</th>\n",
              "    </tr>\n",
              "    <tr>\n",
              "      <th>Date</th>\n",
              "      <th></th>\n",
              "      <th></th>\n",
              "    </tr>\n",
              "  </thead>\n",
              "  <tbody>\n",
              "    <tr>\n",
              "      <th>2018-09-28</th>\n",
              "      <td>225.740005</td>\n",
              "      <td>214.601700</td>\n",
              "    </tr>\n",
              "    <tr>\n",
              "      <th>2018-10-01</th>\n",
              "      <td>227.259995</td>\n",
              "      <td>215.845490</td>\n",
              "    </tr>\n",
              "    <tr>\n",
              "      <th>2018-10-02</th>\n",
              "      <td>229.279999</td>\n",
              "      <td>217.249268</td>\n",
              "    </tr>\n",
              "    <tr>\n",
              "      <th>2018-10-03</th>\n",
              "      <td>232.070007</td>\n",
              "      <td>218.818542</td>\n",
              "    </tr>\n",
              "    <tr>\n",
              "      <th>2018-10-04</th>\n",
              "      <td>227.990005</td>\n",
              "      <td>220.649582</td>\n",
              "    </tr>\n",
              "    <tr>\n",
              "      <th>...</th>\n",
              "      <td>...</td>\n",
              "      <td>...</td>\n",
              "    </tr>\n",
              "    <tr>\n",
              "      <th>2020-06-01</th>\n",
              "      <td>321.850006</td>\n",
              "      <td>305.518280</td>\n",
              "    </tr>\n",
              "    <tr>\n",
              "      <th>2020-06-02</th>\n",
              "      <td>323.339996</td>\n",
              "      <td>306.274323</td>\n",
              "    </tr>\n",
              "    <tr>\n",
              "      <th>2020-06-03</th>\n",
              "      <td>325.119995</td>\n",
              "      <td>307.370667</td>\n",
              "    </tr>\n",
              "    <tr>\n",
              "      <th>2020-06-04</th>\n",
              "      <td>322.320007</td>\n",
              "      <td>308.735840</td>\n",
              "    </tr>\n",
              "    <tr>\n",
              "      <th>2020-06-05</th>\n",
              "      <td>331.500000</td>\n",
              "      <td>309.495911</td>\n",
              "    </tr>\n",
              "  </tbody>\n",
              "</table>\n",
              "<p>424 rows × 2 columns</p>\n",
              "</div>"
            ],
            "text/plain": [
              "                 Close  Predictions\n",
              "Date                               \n",
              "2018-09-28  225.740005   214.601700\n",
              "2018-10-01  227.259995   215.845490\n",
              "2018-10-02  229.279999   217.249268\n",
              "2018-10-03  232.070007   218.818542\n",
              "2018-10-04  227.990005   220.649582\n",
              "...                ...          ...\n",
              "2020-06-01  321.850006   305.518280\n",
              "2020-06-02  323.339996   306.274323\n",
              "2020-06-03  325.119995   307.370667\n",
              "2020-06-04  322.320007   308.735840\n",
              "2020-06-05  331.500000   309.495911\n",
              "\n",
              "[424 rows x 2 columns]"
            ]
          },
          "metadata": {
            "tags": []
          },
          "execution_count": 35
        }
      ]
    },
    {
      "cell_type": "code",
      "metadata": {
        "id": "PhgmV10u-QId",
        "colab_type": "code",
        "colab": {
          "base_uri": "https://localhost:8080/",
          "height": 34
        },
        "outputId": "02a694cd-c8d0-434d-cd63-b1ef6ee2baf7"
      },
      "source": [
        "apple_quote = web.DataReader('AAPL', data_source='yahoo', start='2012-01-01', end='2019-12-17')\n",
        "new_df = apple_quote.filter(['Close'])\n",
        "last_60_days = new_df[-60:].values\n",
        "last_60_days_scaled=scaler.transform(last_60_days)\n",
        "X_test=[]\n",
        "X_test.append(last_60_days_scaled)\n",
        "X_test = np.array(X_test)\n",
        "X_test = np.reshape(X_test,(X_test.shape[0], X_test.shape[1], 1))\n",
        "pred_price = model.predict(X_test)\n",
        "pred_price = scaler.inverse_transform(pred_price)\n",
        "print(pred_price)"
      ],
      "execution_count": 37,
      "outputs": [
        {
          "output_type": "stream",
          "text": [
            "[[266.2315]]\n"
          ],
          "name": "stdout"
        }
      ]
    },
    {
      "cell_type": "code",
      "metadata": {
        "id": "IdPo8ZAnADCp",
        "colab_type": "code",
        "colab": {
          "base_uri": "https://localhost:8080/",
          "height": 68
        },
        "outputId": "90b266ae-2841-4e93-e82f-c91a71ad422f"
      },
      "source": [
        "apple_quote2 = web.DataReader('AAPL', data_source='yahoo', start='2020-06-06', end='2020-06-06')\n",
        "print(apple_quote2['Close'])"
      ],
      "execution_count": 38,
      "outputs": [
        {
          "output_type": "stream",
          "text": [
            "Date\n",
            "2020-06-05    331.5\n",
            "Name: Close, dtype: float64\n"
          ],
          "name": "stdout"
        }
      ]
    }
  ]
}